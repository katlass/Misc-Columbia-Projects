{
 "cells": [
  {
   "cell_type": "markdown",
   "metadata": {},
   "source": [
    "# Max Flow Applications\n",
    "\n",
    "The purpose of this assignment is to investigate applications of finding a Max Flow. The problem asks you to design and implement an algorithm for shipping a material between nodes with different supply and demand requirements.\n",
    "\n",
    "* Please write code *only* in the bodies of the two functions, that is, following the TODO comments.\n",
    "* Be careful not to use variables defined outside of the functions.\n",
    "* Breaking the two above rules may lead to 0 grades."
   ]
  },
  {
   "cell_type": "markdown",
   "metadata": {},
   "source": [
    "## Movie distribution\n",
    "\n",
    "First solve Problem 2 from hw3t. \n",
    "\n",
    "Now suppose a movie distributor would like to ship a copy of a film from CA to every other state. There are therefore 48 units to ship out of CA, and each other state receives 1 unit. \n",
    "\n",
    "The dataset contiguous-usa.dat lists the adjacent states in the US. Each line lists two adjacent states; thus AK and HI are omitted, but DC is included in the data. The following code reads in the graph of US states."
   ]
  },
  {
   "cell_type": "code",
   "execution_count": 1,
   "metadata": {},
   "outputs": [],
   "source": [
    "import networkx as nx\n",
    "G = nx.Graph()\n",
    "\n",
    "usa = open('contiguous-usa.dat')\n",
    "for line in usa:\n",
    "    s1, s2 = line.strip().split()\n",
    "    G.add_edge(s1, s2)"
   ]
  },
  {
   "cell_type": "markdown",
   "metadata": {},
   "source": [
    "We now encode the demands into the graph."
   ]
  },
  {
   "cell_type": "code",
   "execution_count": 2,
   "metadata": {},
   "outputs": [],
   "source": [
    "for state in G.nodes():\n",
    "    if state != 'CA':\n",
    "        G.nodes[state]['demand'] = 1\n",
    "G.nodes['CA']['demand'] = -48"
   ]
  },
  {
   "cell_type": "markdown",
   "metadata": {},
   "source": [
    "We will assign a uniform capacity of 16 to each edge. Since CA has only three adjacent states, this is the smallest possible uniform capacity that allows one to ship all 48 units out of CA. As we have created an undirected graph, and flows have directions, we first convert the graph to a directed graph."
   ]
  },
  {
   "cell_type": "code",
   "execution_count": 3,
   "metadata": {},
   "outputs": [],
   "source": [
    "G = nx.DiGraph(G)\n",
    "uniform_capacity = 16\n",
    "for (s1, s2) in G.edges():\n",
    "    G.edges[s1, s2]['capacity'] = uniform_capacity"
   ]
  },
  {
   "cell_type": "markdown",
   "metadata": {},
   "source": [
    "Complete the following function to implement your algorithm to find a flow with demands. Your function should work correctly for any input, not just the movie instance considered here. As always, you are encouraged to define auxiliary functions as needed for clarity."
   ]
  },
  {
   "cell_type": "code",
   "execution_count": 4,
   "metadata": {},
   "outputs": [],
   "source": [
    "def flow_with_demands(graph):\n",
    "    \"\"\"Computes a flow with demands over the given graph.\n",
    "    \n",
    "    Args:\n",
    "        graph: A directed graph with nodes annotated with 'demand' properties and edges annotated with 'capacity' \n",
    "            properties.\n",
    "        \n",
    "    Returns:\n",
    "        A dict of dicts containing the flow on each edge. For instance, flow[s1][s2] should provide the flow along\n",
    "        edge (s1, s2).\n",
    "        \n",
    "    Raises:\n",
    "        NetworkXUnfeasible: An error is thrown if there is no flow satisfying the demands.\n",
    "    \"\"\"\n",
    "    # TODO: Implement the function.\n",
    "    # Track changes to flow out of source and into sink\n",
    "    flow_into_sink=0\n",
    "    flow_out_source=0  \n",
    "    \n",
    "    #create a residual graph, transformed graph of original graph, add super source and sink\n",
    "    graph_resid = nx.Graph()\n",
    "    graph_resid.add_edges_from(graph.edges())\n",
    "    graph_resid.add_nodes_from(graph.nodes())\n",
    "    graph_resid.add_node('s*')\n",
    "    graph_resid.add_node('t*')\n",
    "    \n",
    "    for node in list(graph.nodes()):                              # for every node in the graph\n",
    "        if graph.nodes[node]['demand'] <= 0:                      # if it is a source node\n",
    "            new_demand=int(-graph.nodes[node]['demand'])          # new demand is equal to negative current demand\n",
    "            graph_resid.add_edge(\"s*\",node)                       # add edge to the super source\n",
    "            graph_resid.edges[\"s*\",node]['capacity'] = new_demand # assign the capacity of this edge as the new demand\n",
    "            flow_out_source = flow_out_source + new_demand        # add this change in flow to flow out of the source\n",
    "        if graph.nodes[node]['demand'] > 0:                       # if it is a sink node\n",
    "            new_demand=graph.nodes[node]['demand']                # new demand is equal to current demand\n",
    "            graph_resid.add_edge(node, \"t*\")                      # add edge to the super sink\n",
    "            graph_resid.edges[node, \"t*\"]['capacity'] = new_demand# assign the capacity of this edge as the new demand\n",
    "            flow_into_sink = flow_into_sink + new_demand          # add this change in flow to flow into the sink\n",
    "       \n",
    "    # If demand constraints can't be satisfied, no feasable circulation\n",
    "    if flow_out_source != flow_into_sink:\n",
    "        raise nx.NetworkXUnfeasible('There is no flow satisfying demands')\n",
    "        \n",
    "    else: # If demand constraints are satisfied, calculate max flow, return a flow dictionary\n",
    "        max_flow, all_flows = nx.maximum_flow(graph_resid, 's*', 't*')\n",
    "        if max_flow != flow_out_source:\n",
    "            raise nx.NetworkXUnfeasible('There is no flow satisfying demands')\n",
    "            \n",
    "        #removing super source and sink, corresponding edges\n",
    "        for node, edges in all_flows.items():\n",
    "            if \"t*\" in edges:  del all_flows[node]['t*']\n",
    "            if \"s*\" in edges:  del all_flows[node]['s*']\n",
    "        del all_flows['t*'] \n",
    "        del all_flows['s*']\n",
    "        del graph_resid\n",
    "        return all_flows"
   ]
  },
  {
   "cell_type": "markdown",
   "metadata": {},
   "source": [
    "To verify that your solution is correct, implement a function that computes the total flow into each node (which will be negative for supply nodes)."
   ]
  },
  {
   "cell_type": "code",
   "execution_count": 5,
   "metadata": {},
   "outputs": [],
   "source": [
    "def divergence(flow):\n",
    "    \"\"\"Computes the total flow into each node according to the given flow dict.\n",
    "    \n",
    "    Args:\n",
    "        flow: the flow dict recording flow between nodes.\n",
    "        \n",
    "    Returns:\n",
    "        A dict of the net flow into each node.\n",
    "    \"\"\"\n",
    "    # TODO: Implement the function.\n",
    "    # Store dictionary of the net flow into each node\n",
    "    new_flow={}\n",
    "    #set default flow of zero for all nodes\n",
    "    for node in flow:\n",
    "        new_flow[node]=0  \n",
    "    for node in flow:                                     # for every node in the graph\n",
    "        for edge in flow[node]:                           # for every edge attached to that node            \n",
    "            new_flow[node]=new_flow[node]-flow[node][edge]# subtract flow on edge from net flow of current node\n",
    "            new_flow[edge]=new_flow[edge]+flow[node][edge]# add flow on edge to net flow of the edge node\n",
    "    return new_flow"
   ]
  },
  {
   "cell_type": "markdown",
   "metadata": {},
   "source": [
    "The following code performs a sanity check on your function (but does not completely confirm correctness)."
   ]
  },
  {
   "cell_type": "code",
   "execution_count": 6,
   "metadata": {},
   "outputs": [],
   "source": [
    "flow = flow_with_demands(G)\n",
    "div = divergence(flow)"
   ]
  },
  {
   "cell_type": "code",
   "execution_count": null,
   "metadata": {},
   "outputs": [],
   "source": []
  }
 ],
 "metadata": {
  "kernelspec": {
   "display_name": "Python 3 (ipykernel)",
   "language": "python",
   "name": "python3"
  },
  "language_info": {
   "codemirror_mode": {
    "name": "ipython",
    "version": 3
   },
   "file_extension": ".py",
   "mimetype": "text/x-python",
   "name": "python",
   "nbconvert_exporter": "python",
   "pygments_lexer": "ipython3",
   "version": "3.9.12"
  }
 },
 "nbformat": 4,
 "nbformat_minor": 1
}
