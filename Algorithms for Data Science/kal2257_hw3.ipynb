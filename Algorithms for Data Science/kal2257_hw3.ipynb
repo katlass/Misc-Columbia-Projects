{
 "cells": [
  {
   "cell_type": "markdown",
   "metadata": {},
   "source": [
    "# Connected Components\n",
    "\n",
    "The purpose of this assignment is to familiarize yourself with the handling of graph data structures. You will implement depth-first search for identifying the connected components of an undirected graph, implementing procedure Search as a subroutine along the way.\n",
    "\n",
    "You will use the [NetworkX](https://networkx.github.io/) Python package to represent and manipulate graphs. You should first familiarize yourself with its functionality by going through the brief [tutorial](https://networkx.org/documentation/networkx-2.4/tutorial.html). For this homework, you may only use the basic undirected graph methods listed [here](https://networkx.org/documentation/networkx-2.4/reference/classes/graph.html).\n",
    "\n",
    "As a use case, we will work with a dataset recording the interactions between characters in Homer's *Iliad*."
   ]
  },
  {
   "cell_type": "code",
   "execution_count": 1,
   "metadata": {},
   "outputs": [],
   "source": [
    "import networkx\n",
    "homer = open('homer.dat')"
   ]
  },
  {
   "cell_type": "markdown",
   "metadata": {},
   "source": [
    "The format of the data is straightforward. After some comment lines (beginning with \\*), the file lists a codename for each character (i.e., node of the graph), followed by a description. The file then lists the groups of characters that interact in each chapter, from which you will form the edges. For instance, the first line has the form:\n",
    "\n",
    "```1:CH,AG,ME,GS;AP,CH;HE,AC;AC,AG,CA;HE,AT;AT,AC;AT,OG;NE,AG,AC;CS,OD```\n",
    "\n",
    "This means that CH,AG,ME,GS interacted, so there are edges for all pairs of these nodes. Groups of characters that interacted are separated by semicolons. The lines start with chapter information of the form `1:` or `&:`, which can be ignored for this problem."
   ]
  },
  {
   "cell_type": "markdown",
   "metadata": {},
   "source": [
    "First implement a function to read in the nodes from the input file. You may implement any auxiliary functions as needed, and are encouraged to use small functions with specific purposes to keep your code readable. Any function you implement should be clearly commented."
   ]
  },
  {
   "cell_type": "markdown",
   "metadata": {},
   "source": [
    "Next implement a function to read in the edges from the input file."
   ]
  },
  {
   "cell_type": "code",
   "execution_count": 2,
   "metadata": {},
   "outputs": [],
   "source": [
    "def read_nodes(gfile):\n",
    "    \"\"\"Reads in the nodes of the graph from the input file.\n",
    "    \n",
    "    Args:\n",
    "        gfile: A handle for the file containing the graph data, starting at the top.\n",
    "        \n",
    "    Returns:\n",
    "        A list of the nodes in the graph of the form:\n",
    "            ['CH', 'AG, 'ME', ...]\n",
    "    \"\"\"\n",
    "    # TODO: implement function\n",
    "    #Initialize empty list to store nodes\n",
    "    nodes=[]\n",
    "    #Loop through the file line by line\n",
    "    for line in gfile:\n",
    "        #If there is a line with length greater than or equal to 2 and the character in index 2 is a '  ' (character id assignments)\n",
    "        if line is not None and len(line) >= 2 and line[2] == ' ':\n",
    "            #A given character id will be the first 2 items in the line\n",
    "            char_id=line[:2]\n",
    "            #Add this to a list of character id nodes\n",
    "            nodes=nodes+[char_id]\n",
    "    return(nodes)\n",
    "    pass"
   ]
  },
  {
   "cell_type": "code",
   "execution_count": 3,
   "metadata": {},
   "outputs": [],
   "source": [
    "def read_edges(gfile):\n",
    "    \"\"\"Reads in the edges of the graph from the input file.\n",
    "    \n",
    "    Args:\n",
    "        gfile: A handle for the file containing the graph data, starting at the top \n",
    "            of the edges section.\n",
    "            \n",
    "    Returns:\n",
    "        The edges in the graph as a list of pairs of the form:\n",
    "            [('CH', 'AG'), ('AG', 'ME'), ...]\n",
    "    \"\"\"\n",
    "    # TODO: implement function\n",
    "    #return to the first line of the file\n",
    "    gfile.seek(0)\n",
    "    #Initialize an empty list to store edges\n",
    "    edges=[]\n",
    "    #Loop through the file line by line\n",
    "    for line in gfile: \n",
    "        #Place the full line as a string into a list \n",
    "        data=line.splitlines()\n",
    "        #Iterate through that line\n",
    "        for line in data:\n",
    "            #If the line is not empty and the item in index 2 is not equal to ' ' and index 0 is not equal to \"*\" (not character id assignments or notes)\n",
    "            if len(line) != 0 and line[2] != ' ' and line[0] != \"*\":\n",
    "                #Start at index 2 or 3 depending if the chapter is a single number of two numbers\n",
    "                if line[1]==\":\": start_index=2\n",
    "                else: start_index=3\n",
    "                #Split the line first by commas between characters and then split again on semicolons for chunks/groups of characters\n",
    "                char_groups=[x.split(\",\") for x in line[start_index:].split(\";\")]\n",
    "                #For each group of characters that interacted\n",
    "                for group in char_groups:\n",
    "                    #For every character that appears in that group\n",
    "                    for first_char in range(len(group)):\n",
    "                        #For every other character in that group\n",
    "                        for other_char in range(first_char+1,len(group)):\n",
    "                            #Add to the list of edges this edge between the characters\n",
    "                            edges=edges+[(group[first_char],group[other_char])]\n",
    "    return(edges)\n",
    "    pass"
   ]
  },
  {
   "cell_type": "markdown",
   "metadata": {},
   "source": [
    "The following code should now correctly create the graph."
   ]
  },
  {
   "cell_type": "code",
   "execution_count": 4,
   "metadata": {},
   "outputs": [],
   "source": [
    "import networkx as nx\n",
    "G = nx.Graph()\n",
    "G.add_nodes_from(read_nodes(homer))\n",
    "G.add_edges_from(read_edges(homer))"
   ]
  },
  {
   "cell_type": "markdown",
   "metadata": {},
   "source": [
    "Next implement procedure Search. The function takes in a graph and a root node, and returns a list of the nodes visited during the search. The nodes should appear in the order in which they were *first visited*. The neighbors of a node should be processed in *alphabetical order*, where numbers come before letters. This will ensure that the output of your function is uniquely defined, given any input node."
   ]
  },
  {
   "cell_type": "code",
   "execution_count": 5,
   "metadata": {},
   "outputs": [],
   "source": [
    "def Search(graph, root):\n",
    "    \"\"\"Runs Search from vertex root in a graph. Neighboring nodes are processed in alphabetical order.\n",
    "    \n",
    "    Args:\n",
    "        graph: the given graph, with nodes encoded as strings.\n",
    "        root: the node from which to start the search.\n",
    "        \n",
    "    Returns:\n",
    "        A list of nodes in the order in which they were first visited.\n",
    "    \"\"\"\n",
    "    # TODO: implement function\n",
    "    # DFS calls search recursively until it finds all nodes reachable from the source\n",
    "    def DFS(graph, source):\n",
    "        #Initialize empty dictionary explored to indicate whether each node has been visited\n",
    "        explored={}\n",
    "        #Initialize explored to 0 for all nodes\n",
    "        for u in graph.nodes:\n",
    "            explored[u]=0\n",
    "        #if source node is not in the graph, return empty list\n",
    "        if source not in graph.nodes(): \n",
    "            return([])\n",
    "        #Mark source node explored\n",
    "        explored[source]=1\n",
    "        #Initialize an empty stack to store nodes in the order they were first visited\n",
    "        stack=[]\n",
    "        #Call search recursively until all reachable nodes have been discovered\n",
    "        explored,stack = search(source,explored,graph,stack)\n",
    "        #Return the stack of visited nodes\n",
    "        return(stack)\n",
    "    \n",
    "    # search is called within DFS to explore all neighbors of the node in alphabetical order\n",
    "    def search(u,explored,graph,stack):\n",
    "        #If a node is discovered, mark explored = 1 so it won't be visited again\n",
    "        explored[u]=1\n",
    "        #Add the node to the preorder traversal stack \n",
    "        stack=stack+[u]\n",
    "        #For every neighbor of that node, visit them alphabetically\n",
    "        for v in sorted(list(graph.neighbors(u))):\n",
    "            #If they are unexplored, explore them by calling search()\n",
    "            if explored[v]==0:\n",
    "                explored,stack=search(v,explored,graph,stack)\n",
    "        #Return the explored array and stack of visited nodes\n",
    "        return(explored,stack)\n",
    "    \n",
    "    return(DFS(graph, root))\n",
    "    pass   "
   ]
  },
  {
   "cell_type": "markdown",
   "metadata": {},
   "source": [
    "We will check the correctness of your code by verifying that it correctly computes the connected component of node Ulysses (node `OD`)."
   ]
  },
  {
   "cell_type": "code",
   "execution_count": 6,
   "metadata": {},
   "outputs": [],
   "source": [
    "ulysses = Search(G, 'OD')"
   ]
  },
  {
   "cell_type": "markdown",
   "metadata": {},
   "source": [
    "Next implement DFS to find the connected components of the character graph. When choosing roots for your components, always pick the *smallest unvisited node* according to alphabetical ordering. Combined with your Search routine, this will ensure that the output is again uniquely defined."
   ]
  },
  {
   "cell_type": "code",
   "execution_count": 7,
   "metadata": {},
   "outputs": [],
   "source": [
    "def connected_components(graph):\n",
    "    \"\"\"Computes the connected components of the given graph.\n",
    "    \n",
    "    Args: \n",
    "        graph: the given graph, with nodes encoded as strings.\n",
    "        \n",
    "    Returns:\n",
    "        The connected components of the graph. Components are listed in\n",
    "        alphabetical order of their root nodes.\n",
    "    \"\"\"\n",
    "    # TODO: implement function\n",
    "    # DFS calls search recursively until it finds all connect components of the graph\n",
    "    def DFS(graph):\n",
    "        #Initialize empty dictionary explored to indicate whether each node has been visited\n",
    "        explored={}\n",
    "        #Initialize empty list to store connected components\n",
    "        conn_comps=[]\n",
    "        #Initialize explored to 0 for all nodes\n",
    "        for u in graph.nodes:\n",
    "            explored[u]=0\n",
    "        #Sort nodes alphabetically\n",
    "        nodes=sorted(list(graph.nodes))\n",
    "        #For every node in the graph\n",
    "        for u in nodes:\n",
    "            #Initialize an empty stack to hold all nodes reachable from u\n",
    "            stack=[]\n",
    "            #Call search recursively until all reachable nodes have been discovered\n",
    "            if explored[u]==0:\n",
    "                  explored,stack = search(u,explored,graph,stack)\n",
    "            #If the stack isn't empty, add it to the list of connected components\n",
    "            if len(stack)>0:\n",
    "                conn_comps=conn_comps+[stack]\n",
    "        #Return list of connected components\n",
    "        return(conn_comps)\n",
    "    \n",
    "    # search is called within DFS to explore all neighbors of the node in alphabetical order\n",
    "    def search(u,explored,graph,stack):\n",
    "        #If a node is discovered, mark explored = 1 so it won't be visited again\n",
    "        explored[u]=1\n",
    "        #Add the node to the preorder traversal stack \n",
    "        stack=stack+[u]\n",
    "        #For every neighbor of that node, visit them alphabetically\n",
    "        for v in sorted(list(graph.neighbors(u))):\n",
    "            #If they are unexplored, explore them by calling search()\n",
    "            if explored[v]==0:\n",
    "                explored,stack=search(v,explored,graph,stack)\n",
    "        #Return the explored array and stack of visited nodes\n",
    "        return(explored,stack)\n",
    "    \n",
    "    return(DFS(graph))\n",
    "    pass"
   ]
  },
  {
   "cell_type": "markdown",
   "metadata": {},
   "source": [
    "We will check correctness of your code by verifying that your output is identical to our solution."
   ]
  },
  {
   "cell_type": "code",
   "execution_count": 8,
   "metadata": {},
   "outputs": [],
   "source": [
    "character_interactions = connected_components(G)"
   ]
  },
  {
   "cell_type": "markdown",
   "metadata": {},
   "source": [
    "As a preliminary check, you should find that the following statements are all true."
   ]
  },
  {
   "cell_type": "code",
   "execution_count": 9,
   "metadata": {},
   "outputs": [
    {
     "name": "stdout",
     "output_type": "stream",
     "text": [
      "There are 12 connected components in the Iliad:True\n",
      "The giant component has size 542:True\n",
      "There are 5 isolated characters:True\n"
     ]
    }
   ],
   "source": [
    "component_sizes = [len(c) for c in character_interactions]\n",
    "print(\"There are 12 connected components in the Iliad:{}\".format(len(component_sizes) == 12))\n",
    "print(\"The giant component has size 542:{}\".format(max(component_sizes) == 542))\n",
    "print(\"There are 5 isolated characters:{}\".format(len([c for c in component_sizes if c == 1]) == 5))"
   ]
  },
  {
   "cell_type": "code",
   "execution_count": null,
   "metadata": {},
   "outputs": [],
   "source": []
  }
 ],
 "metadata": {
  "kernelspec": {
   "display_name": "Python 3 (ipykernel)",
   "language": "python",
   "name": "python3"
  },
  "language_info": {
   "codemirror_mode": {
    "name": "ipython",
    "version": 3
   },
   "file_extension": ".py",
   "mimetype": "text/x-python",
   "name": "python",
   "nbconvert_exporter": "python",
   "pygments_lexer": "ipython3",
   "version": "3.9.12"
  }
 },
 "nbformat": 4,
 "nbformat_minor": 1
}
