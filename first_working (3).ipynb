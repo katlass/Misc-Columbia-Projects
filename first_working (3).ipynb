{
 "cells": [
  {
   "cell_type": "code",
   "execution_count": 1,
   "id": "7c1dd77d-425d-4a27-8c3a-d3f844e1b597",
   "metadata": {},
   "outputs": [],
   "source": [
    "# Configure GPU\n",
    "import sys\n",
    "sys.path.append(\"../\")\n",
    "import joblib\n",
    "import os\n",
    "import torch\n",
    "import torch.nn as nn\n",
    "import numpy as np\n",
    "import pandas as pd\n",
    "\n",
    "from torch.utils.data import DataLoader\n",
    "from tqdm import tqdm\n",
    "from sklearn.model_selection import GroupShuffleSplit\n",
    "from sklearn.preprocessing import LabelEncoder\n",
    "\n",
    "from utils.data import NormalDataset, resize, get_inverse_class_weights\n",
    "from utils.utils import EarlyStopping"
   ]
  },
  {
   "cell_type": "code",
   "execution_count": 3,
   "id": "135a4c37-5586-4a71-8579-4680831e9aa9",
   "metadata": {},
   "outputs": [
    {
     "name": "stdout",
     "output_type": "stream",
     "text": [
      "(((251, 1000, 3), (251,), (251,)), ((54, 1000, 3), (54,), (54,)), ((54, 1000, 3), (54,), (54,)))\n"
     ]
    }
   ],
   "source": [
    "import pandas as pd\n",
    "import numpy as np\n",
    "from sklearn.model_selection import train_test_split\n",
    "# Load the accelerometer dataset\n",
    "path1=\"/Users/kat/Oxford_Wearables_Activity_Recognition/6_self_supervised_learning/\"\n",
    "device=\"cpu\"\n",
    "csv_file_path = path1+\"OxWalk_Dec2022/Hip_100Hz/P39_hip100.csv\"\n",
    "hip_data = pd.read_csv(csv_file_path)\n",
    "#!Huge imbalance\n",
    "# Load the accelerometer dataset\n",
    "csv_file_path = path1+\"OxWalk_Dec2022/Hip_100Hz/P39_hip100.csv\"\n",
    "hip_data = pd.read_csv(csv_file_path)\n",
    "\n",
    "# Add a 'group' sudo field, dividing the dataset into 10 equal parts\n",
    "num_rows = hip_data.shape[0]\n",
    "group_size = num_rows // 10  # Calculate the number of rows per group\n",
    "# Create an array with group labels (1 to 10) repeated for each group size\n",
    "group_labels = np.repeat(np.arange(1, 11), group_size)\n",
    "if len(group_labels) < num_rows:\n",
    "    group_labels = np.concatenate([group_labels, np.full(num_rows - len(group_labels), 10)])\n",
    "hip_data['group'] = group_labels\n",
    "\n",
    "X = hip_data[['x', 'y', 'z']].values\n",
    "y = hip_data['annotation'].values\n",
    "groups = hip_data['group'].values\n",
    "\n",
    "# Reshape the data into windows of size 1000\n",
    "def create_windows(data, labels, groups, window_size):\n",
    "    num_windows = data.shape[0] // window_size\n",
    "    X_windows = data[:num_windows * window_size].reshape(num_windows, window_size, -1)\n",
    "    y_windows = labels[window_size-1:num_windows * window_size:window_size]  # One label per window\n",
    "    group_windows = groups[window_size-1:num_windows * window_size:window_size]  # One group per window\n",
    "    return X_windows, y_windows, group_windows\n",
    "\n",
    "window_size = 1000\n",
    "X_windows, y_windows, group_windows = create_windows(X, y, groups, window_size)\n",
    "\n",
    "# Split the data into train, validation, and test sets\n",
    "x_train, x_temp, y_train, y_temp, group_train, group_temp = train_test_split(\n",
    "    X_windows, y_windows, group_windows, test_size=0.3, random_state=42\n",
    ")\n",
    "\n",
    "x_val, x_test, y_val, y_test, group_val, group_test = train_test_split(\n",
    "    x_temp, y_temp, group_temp, test_size=0.5, random_state=42\n",
    ")\n",
    "\n",
    "# Output the shapes as expected:\n",
    "print(((x_train.shape, y_train.shape, group_train.shape),\n",
    "       (x_val.shape, y_val.shape, group_val.shape),\n",
    "       (x_test.shape, y_test.shape, group_test.shape)))"
   ]
  },
  {
   "cell_type": "code",
   "execution_count": 5,
   "id": "11914cf0-736d-42f4-bd73-2a2e865dfd02",
   "metadata": {},
   "outputs": [
    {
     "name": "stderr",
     "output_type": "stream",
     "text": [
      "Using cache found in /Users/kat/.cache/torch/hub/OxWearables_ssl-wearables_main\n",
      "/Users/kat/.cache/torch/hub/OxWearables_ssl-wearables_main/hubconf.py:15: FutureWarning: You are using `torch.load` with `weights_only=False` (the current default value), which uses the default pickle module implicitly. It is possible to construct malicious pickle data which will execute arbitrary code during unpickling (See https://github.com/pytorch/pytorch/blob/main/SECURITY.md#untrusted-models for more details). In a future release, the default value for `weights_only` will be flipped to `True`. This limits the functions that could be executed during unpickling. Arbitrary objects will no longer be allowed to be loaded via this mode unless they are explicitly allowlisted by the user via `torch.serialization.add_safe_globals`. We recommend you start setting `weights_only=True` for any use case where you don't have full control of the loaded file. Please open an issue on GitHub for any issues related to this experimental feature.\n",
      "  pretrained_dict = torch.load(weight_path, map_location=my_device)\n"
     ]
    },
    {
     "name": "stdout",
     "output_type": "stream",
     "text": [
      "131 Weights loaded\n",
      "training set sample count : 251\n",
      "validation set sample count : 54\n",
      "test set sample count : 54\n"
     ]
    }
   ],
   "source": [
    "repo = 'OxWearables/ssl-wearables'\n",
    "\n",
    "sslnet: nn.Module = torch.hub.load(repo, 'harnet30', trust_repo=True, class_num=2, pretrained=True, weights_only=False)\n",
    "sslnet.to(device)\n",
    "\n",
    "\n",
    "train_dataset = NormalDataset(x_train, y_train, group_train, name=\"training\", transform=True)\n",
    "val_dataset = NormalDataset(x_val, y_val, group_val, name=\"validation\")\n",
    "test_dataset = NormalDataset(x_test, y_test, group_test, name=\"test\")\n",
    "\n",
    "train_loader = DataLoader(\n",
    "    train_dataset,\n",
    "    batch_size=128,\n",
    "    shuffle=True,\n",
    "    num_workers=2,\n",
    ")\n",
    "\n",
    "val_loader = DataLoader(\n",
    "    val_dataset,\n",
    "    batch_size=128,\n",
    "    shuffle=False,\n",
    "    num_workers=0,\n",
    ")\n",
    "\n",
    "test_loader = DataLoader(\n",
    "    test_dataset,\n",
    "    batch_size=128,\n",
    "    shuffle=False,\n",
    "    num_workers=0,\n",
    ")"
   ]
  },
  {
   "cell_type": "code",
   "execution_count": 7,
   "id": "4785d2f1-0773-4943-9755-8d10f88655a9",
   "metadata": {},
   "outputs": [],
   "source": [
    "def train(model, train_loader, val_loader, device, weights=None):\n",
    "    state_dict = 'state_dict.pt'\n",
    "    num_epoch = 5\n",
    "\n",
    "    optimizer = torch.optim.Adam(\n",
    "        model.parameters(), lr=0.0001, amsgrad=True\n",
    "    )\n",
    "\n",
    "    if weights:\n",
    "        weights = torch.FloatTensor(weights).to(device)\n",
    "        loss_fn = nn.CrossEntropyLoss(weight=weights)\n",
    "    else:\n",
    "        loss_fn = nn.CrossEntropyLoss()\n",
    "\n",
    "    early_stopping = EarlyStopping(\n",
    "        patience=5, path=state_dict, verbose=True\n",
    "    )\n",
    "\n",
    "    for epoch in range(num_epoch):\n",
    "        model.train()\n",
    "        train_losses = []\n",
    "        train_acces = []\n",
    "        for i, (x, y, _) in enumerate(tqdm(train_loader)):\n",
    "            x.requires_grad_(True)\n",
    "            x = x.to(device, dtype=torch.float)\n",
    "            true_y = y.to(device, dtype=torch.long)\n",
    "\n",
    "            optimizer.zero_grad()\n",
    "            print(\"here\",x.shape)\n",
    "            logits = model(x)\n",
    "            loss = loss_fn(logits, true_y)\n",
    "            loss.backward()\n",
    "            optimizer.step()\n",
    "\n",
    "            pred_y = torch.argmax(logits, dim=1)\n",
    "            train_acc = torch.sum(pred_y == true_y)\n",
    "            train_acc = train_acc / (pred_y.size()[0])\n",
    "\n",
    "            train_losses.append(loss.cpu().detach())\n",
    "            train_acces.append(train_acc.cpu().detach())\n",
    "\n",
    "        val_loss, val_acc = _validate_model(model, val_loader, device, loss_fn)\n",
    "\n",
    "        epoch_len = len(str(num_epoch))\n",
    "        print_msg = (\n",
    "            f\"[{epoch:>{epoch_len}}/{num_epoch:>{epoch_len}}] | \"\n",
    "            + f\"train_loss: {np.mean(train_losses):.3f} | \"\n",
    "            + f\"train_acc: {np.mean(train_acces):.3f} | \"\n",
    "            + f\"val_loss: {val_loss:.3f} | \"\n",
    "            + f\"val_acc: {val_acc:.2f}\"\n",
    "        )\n",
    "\n",
    "        early_stopping(val_loss, model)\n",
    "        print(print_msg)\n",
    "\n",
    "        if early_stopping.early_stop:\n",
    "            print('Early stopping')\n",
    "            print(f'SSLNet weights saved to {state_dict}')\n",
    "            break\n",
    "\n",
    "\n",
    "def _validate_model(model, val_loader, device, loss_fn):\n",
    "    model.eval()\n",
    "    losses = []\n",
    "    acces = []\n",
    "    for i, (x, y, _) in enumerate(val_loader):\n",
    "        with torch.inference_mode():\n",
    "            x = x.to(device, dtype=torch.float)\n",
    "            true_y = y.to(device, dtype=torch.long)\n",
    "\n",
    "            logits = model(x)\n",
    "            loss = loss_fn(logits, true_y)\n",
    "\n",
    "            pred_y = torch.argmax(logits, dim=1)\n",
    "\n",
    "            val_acc = torch.sum(pred_y == true_y)\n",
    "            val_acc = val_acc / (list(pred_y.size())[0])\n",
    "\n",
    "            losses.append(loss.cpu().detach())\n",
    "            acces.append(val_acc.cpu().detach())\n",
    "    losses = np.array(losses)\n",
    "    acces = np.array(acces)\n",
    "    return np.mean(losses), np.mean(acces)\n",
    "\n",
    "\n",
    "def predict(model, data_loader, device):\n",
    "    from tqdm import tqdm\n",
    "\n",
    "    predictions_list = []\n",
    "    true_list = []\n",
    "    pid_list = []\n",
    "    model.eval()\n",
    "\n",
    "    for i, (x, y, pid) in enumerate(tqdm(data_loader)):\n",
    "        with torch.inference_mode():\n",
    "            x = x.to(device, dtype=torch.float)\n",
    "            logits = model(x)\n",
    "            true_list.append(y)\n",
    "            pred_y = torch.argmax(logits, dim=1)\n",
    "            predictions_list.append(pred_y.cpu())\n",
    "            pid_list.extend(pid)\n",
    "    true_list = torch.cat(true_list)\n",
    "    predictions_list = torch.cat(predictions_list)\n",
    "\n",
    "    return (\n",
    "        torch.flatten(true_list).numpy(),\n",
    "        torch.flatten(predictions_list).numpy(),\n",
    "        np.array(pid_list),\n",
    "    )"
   ]
  },
  {
   "cell_type": "code",
   "execution_count": 13,
   "id": "1fc179ec-0c43-4242-b51e-847a3069bf54",
   "metadata": {},
   "outputs": [
    {
     "name": "stderr",
     "output_type": "stream",
     "text": [
      "Using cache found in /Users/kat/.cache/torch/hub/OxWearables_ssl-wearables_main\n",
      "/Users/kat/.cache/torch/hub/OxWearables_ssl-wearables_main/hubconf.py:15: FutureWarning: You are using `torch.load` with `weights_only=False` (the current default value), which uses the default pickle module implicitly. It is possible to construct malicious pickle data which will execute arbitrary code during unpickling (See https://github.com/pytorch/pytorch/blob/main/SECURITY.md#untrusted-models for more details). In a future release, the default value for `weights_only` will be flipped to `True`. This limits the functions that could be executed during unpickling. Arbitrary objects will no longer be allowed to be loaded via this mode unless they are explicitly allowlisted by the user via `torch.serialization.add_safe_globals`. We recommend you start setting `weights_only=True` for any use case where you don't have full control of the loaded file. Please open an issue on GitHub for any issues related to this experimental feature.\n",
      "  pretrained_dict = torch.load(weight_path, map_location=my_device)\n"
     ]
    },
    {
     "name": "stdout",
     "output_type": "stream",
     "text": [
      "131 Weights loaded\n"
     ]
    },
    {
     "data": {
      "text/plain": [
       "Resnet(\n",
       "  (feature_extractor): Sequential(\n",
       "    (layer1): Sequential(\n",
       "      (0): Conv1d(3, 64, kernel_size=(5,), stride=(1,), padding=(2,), bias=False, padding_mode=circular)\n",
       "      (1): ResBlock(\n",
       "        (bn1): BatchNorm1d(64, eps=1e-05, momentum=0.1, affine=True, track_running_stats=True)\n",
       "        (bn2): BatchNorm1d(64, eps=1e-05, momentum=0.1, affine=True, track_running_stats=True)\n",
       "        (conv1): Conv1d(64, 64, kernel_size=(5,), stride=(1,), padding=(2,), bias=False, padding_mode=circular)\n",
       "        (conv2): Conv1d(64, 64, kernel_size=(5,), stride=(1,), padding=(2,), bias=False, padding_mode=circular)\n",
       "        (relu): ReLU(inplace=True)\n",
       "      )\n",
       "      (2): ResBlock(\n",
       "        (bn1): BatchNorm1d(64, eps=1e-05, momentum=0.1, affine=True, track_running_stats=True)\n",
       "        (bn2): BatchNorm1d(64, eps=1e-05, momentum=0.1, affine=True, track_running_stats=True)\n",
       "        (conv1): Conv1d(64, 64, kernel_size=(5,), stride=(1,), padding=(2,), bias=False, padding_mode=circular)\n",
       "        (conv2): Conv1d(64, 64, kernel_size=(5,), stride=(1,), padding=(2,), bias=False, padding_mode=circular)\n",
       "        (relu): ReLU(inplace=True)\n",
       "      )\n",
       "      (3): BatchNorm1d(64, eps=1e-05, momentum=0.1, affine=True, track_running_stats=True)\n",
       "      (4): ReLU(inplace=True)\n",
       "      (5): Downsample()\n",
       "    )\n",
       "    (layer2): Sequential(\n",
       "      (0): Conv1d(64, 128, kernel_size=(5,), stride=(1,), padding=(2,), bias=False, padding_mode=circular)\n",
       "      (1): ResBlock(\n",
       "        (bn1): BatchNorm1d(128, eps=1e-05, momentum=0.1, affine=True, track_running_stats=True)\n",
       "        (bn2): BatchNorm1d(128, eps=1e-05, momentum=0.1, affine=True, track_running_stats=True)\n",
       "        (conv1): Conv1d(128, 128, kernel_size=(5,), stride=(1,), padding=(2,), bias=False, padding_mode=circular)\n",
       "        (conv2): Conv1d(128, 128, kernel_size=(5,), stride=(1,), padding=(2,), bias=False, padding_mode=circular)\n",
       "        (relu): ReLU(inplace=True)\n",
       "      )\n",
       "      (2): ResBlock(\n",
       "        (bn1): BatchNorm1d(128, eps=1e-05, momentum=0.1, affine=True, track_running_stats=True)\n",
       "        (bn2): BatchNorm1d(128, eps=1e-05, momentum=0.1, affine=True, track_running_stats=True)\n",
       "        (conv1): Conv1d(128, 128, kernel_size=(5,), stride=(1,), padding=(2,), bias=False, padding_mode=circular)\n",
       "        (conv2): Conv1d(128, 128, kernel_size=(5,), stride=(1,), padding=(2,), bias=False, padding_mode=circular)\n",
       "        (relu): ReLU(inplace=True)\n",
       "      )\n",
       "      (3): BatchNorm1d(128, eps=1e-05, momentum=0.1, affine=True, track_running_stats=True)\n",
       "      (4): ReLU(inplace=True)\n",
       "      (5): Downsample()\n",
       "    )\n",
       "    (layer3): Sequential(\n",
       "      (0): Conv1d(128, 256, kernel_size=(5,), stride=(1,), padding=(2,), bias=False, padding_mode=circular)\n",
       "      (1): ResBlock(\n",
       "        (bn1): BatchNorm1d(256, eps=1e-05, momentum=0.1, affine=True, track_running_stats=True)\n",
       "        (bn2): BatchNorm1d(256, eps=1e-05, momentum=0.1, affine=True, track_running_stats=True)\n",
       "        (conv1): Conv1d(256, 256, kernel_size=(5,), stride=(1,), padding=(2,), bias=False, padding_mode=circular)\n",
       "        (conv2): Conv1d(256, 256, kernel_size=(5,), stride=(1,), padding=(2,), bias=False, padding_mode=circular)\n",
       "        (relu): ReLU(inplace=True)\n",
       "      )\n",
       "      (2): ResBlock(\n",
       "        (bn1): BatchNorm1d(256, eps=1e-05, momentum=0.1, affine=True, track_running_stats=True)\n",
       "        (bn2): BatchNorm1d(256, eps=1e-05, momentum=0.1, affine=True, track_running_stats=True)\n",
       "        (conv1): Conv1d(256, 256, kernel_size=(5,), stride=(1,), padding=(2,), bias=False, padding_mode=circular)\n",
       "        (conv2): Conv1d(256, 256, kernel_size=(5,), stride=(1,), padding=(2,), bias=False, padding_mode=circular)\n",
       "        (relu): ReLU(inplace=True)\n",
       "      )\n",
       "      (3): BatchNorm1d(256, eps=1e-05, momentum=0.1, affine=True, track_running_stats=True)\n",
       "      (4): ReLU(inplace=True)\n",
       "      (5): Downsample()\n",
       "    )\n",
       "    (layer4): Sequential(\n",
       "      (0): Conv1d(256, 512, kernel_size=(5,), stride=(1,), padding=(2,), bias=False, padding_mode=circular)\n",
       "      (1): ResBlock(\n",
       "        (bn1): BatchNorm1d(512, eps=1e-05, momentum=0.1, affine=True, track_running_stats=True)\n",
       "        (bn2): BatchNorm1d(512, eps=1e-05, momentum=0.1, affine=True, track_running_stats=True)\n",
       "        (conv1): Conv1d(512, 512, kernel_size=(5,), stride=(1,), padding=(2,), bias=False, padding_mode=circular)\n",
       "        (conv2): Conv1d(512, 512, kernel_size=(5,), stride=(1,), padding=(2,), bias=False, padding_mode=circular)\n",
       "        (relu): ReLU(inplace=True)\n",
       "      )\n",
       "      (2): ResBlock(\n",
       "        (bn1): BatchNorm1d(512, eps=1e-05, momentum=0.1, affine=True, track_running_stats=True)\n",
       "        (bn2): BatchNorm1d(512, eps=1e-05, momentum=0.1, affine=True, track_running_stats=True)\n",
       "        (conv1): Conv1d(512, 512, kernel_size=(5,), stride=(1,), padding=(2,), bias=False, padding_mode=circular)\n",
       "        (conv2): Conv1d(512, 512, kernel_size=(5,), stride=(1,), padding=(2,), bias=False, padding_mode=circular)\n",
       "        (relu): ReLU(inplace=True)\n",
       "      )\n",
       "      (3): BatchNorm1d(512, eps=1e-05, momentum=0.1, affine=True, track_running_stats=True)\n",
       "      (4): ReLU(inplace=True)\n",
       "      (5): Downsample()\n",
       "    )\n",
       "    (layer5): Sequential(\n",
       "      (0): Conv1d(512, 1024, kernel_size=(5,), stride=(1,), padding=(2,), bias=False, padding_mode=circular)\n",
       "      (1): BatchNorm1d(1024, eps=1e-05, momentum=0.1, affine=True, track_running_stats=True)\n",
       "      (2): ReLU(inplace=True)\n",
       "      (3): Downsample()\n",
       "    )\n",
       "  )\n",
       "  (classifier): EvaClassifier(\n",
       "    (linear1): Linear(in_features=1024, out_features=512, bias=True)\n",
       "    (linear2): Linear(in_features=512, out_features=2, bias=True)\n",
       "  )\n",
       ")"
      ]
     },
     "execution_count": 13,
     "metadata": {},
     "output_type": "execute_result"
    }
   ],
   "source": [
    "repo = 'OxWearables/ssl-wearables'\n",
    "# load the pretrained model\n",
    "sslnet: nn.Module = torch.hub.load(repo, 'harnet30', trust_repo=True, class_num=2, pretrained=True, weights_only=False)\n",
    "sslnet.to(device)"
   ]
  },
  {
   "cell_type": "code",
   "execution_count": 15,
   "id": "e2ef5f70-d484-4c70-a230-bee16f77cddc",
   "metadata": {},
   "outputs": [
    {
     "name": "stdout",
     "output_type": "stream",
     "text": [
      "Inverse class weights: \n",
      "[1.004, 251.0]\n"
     ]
    },
    {
     "name": "stderr",
     "output_type": "stream",
     "text": [
      "  0%|                                                     | 0/2 [00:00<?, ?it/s]"
     ]
    },
    {
     "name": "stdout",
     "output_type": "stream",
     "text": [
      "here torch.Size([128, 3, 1000])\n"
     ]
    },
    {
     "name": "stderr",
     "output_type": "stream",
     "text": [
      " 50%|██████████████████████▌                      | 1/2 [00:14<00:14, 14.14s/it]"
     ]
    },
    {
     "name": "stdout",
     "output_type": "stream",
     "text": [
      "here torch.Size([123, 3, 1000])\n"
     ]
    },
    {
     "name": "stderr",
     "output_type": "stream",
     "text": [
      "100%|█████████████████████████████████████████████| 2/2 [00:28<00:00, 14.47s/it]\n"
     ]
    },
    {
     "name": "stdout",
     "output_type": "stream",
     "text": [
      "Validation loss decreased (inf --> 3.310958). Saving model ...\n",
      "[0/5] | train_loss: 1.394 | train_acc: 0.770 | val_loss: 3.311 | val_acc: 0.35\n"
     ]
    },
    {
     "name": "stderr",
     "output_type": "stream",
     "text": [
      "  0%|                                                     | 0/2 [00:00<?, ?it/s]"
     ]
    },
    {
     "name": "stdout",
     "output_type": "stream",
     "text": [
      "here torch.Size([128, 3, 1000])\n"
     ]
    },
    {
     "name": "stderr",
     "output_type": "stream",
     "text": [
      " 50%|██████████████████████▌                      | 1/2 [00:15<00:15, 15.72s/it]"
     ]
    },
    {
     "name": "stdout",
     "output_type": "stream",
     "text": [
      "here torch.Size([123, 3, 1000])\n"
     ]
    },
    {
     "name": "stderr",
     "output_type": "stream",
     "text": [
      "100%|█████████████████████████████████████████████| 2/2 [00:27<00:00, 13.64s/it]\n"
     ]
    },
    {
     "name": "stdout",
     "output_type": "stream",
     "text": [
      "Validation loss decreased (3.310958 --> 1.560020). Saving model ...\n",
      "[1/5] | train_loss: 7.028 | train_acc: 0.976 | val_loss: 1.560 | val_acc: 0.61\n"
     ]
    },
    {
     "name": "stderr",
     "output_type": "stream",
     "text": [
      "  0%|                                                     | 0/2 [00:00<?, ?it/s]"
     ]
    },
    {
     "name": "stdout",
     "output_type": "stream",
     "text": [
      "here torch.Size([128, 3, 1000])\n"
     ]
    },
    {
     "name": "stderr",
     "output_type": "stream",
     "text": [
      " 50%|██████████████████████▌                      | 1/2 [00:13<00:13, 13.10s/it]"
     ]
    },
    {
     "name": "stdout",
     "output_type": "stream",
     "text": [
      "here torch.Size([123, 3, 1000])\n"
     ]
    },
    {
     "name": "stderr",
     "output_type": "stream",
     "text": [
      "100%|█████████████████████████████████████████████| 2/2 [00:24<00:00, 12.06s/it]\n"
     ]
    },
    {
     "name": "stdout",
     "output_type": "stream",
     "text": [
      "Validation loss decreased (1.560020 --> 0.859991). Saving model ...\n",
      "[2/5] | train_loss: 0.748 | train_acc: 0.956 | val_loss: 0.860 | val_acc: 0.74\n"
     ]
    },
    {
     "name": "stderr",
     "output_type": "stream",
     "text": [
      "  0%|                                                     | 0/2 [00:00<?, ?it/s]"
     ]
    },
    {
     "name": "stdout",
     "output_type": "stream",
     "text": [
      "here torch.Size([128, 3, 1000])\n"
     ]
    },
    {
     "name": "stderr",
     "output_type": "stream",
     "text": [
      " 50%|██████████████████████▌                      | 1/2 [00:13<00:13, 13.15s/it]"
     ]
    },
    {
     "name": "stdout",
     "output_type": "stream",
     "text": [
      "here torch.Size([123, 3, 1000])\n"
     ]
    },
    {
     "name": "stderr",
     "output_type": "stream",
     "text": [
      "100%|█████████████████████████████████████████████| 2/2 [00:24<00:00, 12.16s/it]\n"
     ]
    },
    {
     "name": "stdout",
     "output_type": "stream",
     "text": [
      "Validation loss decreased (0.859991 --> 0.500994). Saving model ...\n",
      "[3/5] | train_loss: 1.172 | train_acc: 0.952 | val_loss: 0.501 | val_acc: 0.87\n"
     ]
    },
    {
     "name": "stderr",
     "output_type": "stream",
     "text": [
      "  0%|                                                     | 0/2 [00:00<?, ?it/s]"
     ]
    },
    {
     "name": "stdout",
     "output_type": "stream",
     "text": [
      "here torch.Size([128, 3, 1000])\n"
     ]
    },
    {
     "name": "stderr",
     "output_type": "stream",
     "text": [
      " 50%|██████████████████████▌                      | 1/2 [00:13<00:13, 13.05s/it]"
     ]
    },
    {
     "name": "stdout",
     "output_type": "stream",
     "text": [
      "here torch.Size([123, 3, 1000])\n"
     ]
    },
    {
     "name": "stderr",
     "output_type": "stream",
     "text": [
      "100%|█████████████████████████████████████████████| 2/2 [00:24<00:00, 12.17s/it]\n"
     ]
    },
    {
     "name": "stdout",
     "output_type": "stream",
     "text": [
      "Validation loss decreased (0.500994 --> 0.123252). Saving model ...\n",
      "[4/5] | train_loss: 0.827 | train_acc: 0.968 | val_loss: 0.123 | val_acc: 0.98\n"
     ]
    }
   ],
   "source": [
    "# Train the model. The trained weights will be saved in the file 'state_dict.pt'\n",
    "train(sslnet, train_loader, val_loader, device, get_inverse_class_weights(y_train))\n",
    "#"
   ]
  },
  {
   "cell_type": "code",
   "execution_count": null,
   "id": "17f6593e-adfa-46df-8eb6-385e953f37df",
   "metadata": {},
   "outputs": [],
   "source": [
    "#confusion matrix\n",
    "#Correlation \n"
   ]
  }
 ],
 "metadata": {
  "kernelspec": {
   "display_name": "Python 3 (ipykernel)",
   "language": "python",
   "name": "python3"
  },
  "language_info": {
   "codemirror_mode": {
    "name": "ipython",
    "version": 3
   },
   "file_extension": ".py",
   "mimetype": "text/x-python",
   "name": "python",
   "nbconvert_exporter": "python",
   "pygments_lexer": "ipython3",
   "version": "3.12.4"
  }
 },
 "nbformat": 4,
 "nbformat_minor": 5
}
